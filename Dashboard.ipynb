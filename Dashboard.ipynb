{
 "cells": [
  {
   "cell_type": "markdown",
   "metadata": {},
   "source": [
    "# UK COVID-19 Dashboard\n",
    "\n",
    "### A comparison of occupied mechanical ventilator beds and new cases with first and second vaccine doses\n",
    "\n",
    "[Source code](https://github.com/jmdwrntn/ukcovid19dashboard) (C) James Thornton, 2021 ([jmdwrntn@mailbox.org](mailto:jmdwrntn@mailbox.org)). All rights reserved.\n",
    " *Based on UK Government [data](https://coronavirus.data.gov.uk/) published by [Public Health England](https://www.gov.uk/government/organisations/public-health-england).*"
   ]
  },
  {
   "cell_type": "code",
   "execution_count": 46,
   "metadata": {},
   "outputs": [],
   "source": [
    "import ipywidgets as wdg\n",
    "import pandas as pd\n",
    "import numpy as np\n",
    "import matplotlib.pyplot as plt\n",
    "import json\n",
    "from uk_covid19 import Cov19API"
   ]
  },
  {
   "cell_type": "code",
   "execution_count": 47,
   "metadata": {},
   "outputs": [],
   "source": [
    "# Matplotlib magic function which draws graphs inline within a frontend, in this case in the Jupyter notebook\n",
    "%matplotlib inline\n",
    "# Make figures larger\n",
    "plt.rcParams['figure.dpi'] = 100"
   ]
  },
  {
   "cell_type": "code",
   "execution_count": 48,
   "metadata": {},
   "outputs": [],
   "source": [
    "# Loads JSON data during dashboard startup, more recent API data is optional\n",
    "with open(\"beds.json\", \"rt\") as INFILE:\n",
    "    jsondata=json.load(INFILE)"
   ]
  },
  {
   "cell_type": "code",
   "execution_count": 49,
   "metadata": {},
   "outputs": [],
   "source": [
    "def parse_date(datestring):\n",
    "    \"\"\" Convert a date string into a pandas datetime object \"\"\"\n",
    "    return pd.to_datetime(datestring, format=\"%Y-%m-%d\")"
   ]
  },
  {
   "cell_type": "code",
   "execution_count": 50,
   "metadata": {},
   "outputs": [],
   "source": [
    "def wrangle_data(rawdata):\n",
    "    # Takes either JSON or fresh data from API and returns a dataframe\n",
    "    datalist=rawdata['data']\n",
    "    dates=[dictionary['date'] for dictionary in datalist ]\n",
    "    dates.sort()\n",
    "    startdate=parse_date(dates[0])\n",
    "    enddate=parse_date(dates[-1])   \n",
    "\n",
    "    index=pd.date_range(startdate, enddate, freq='D')\n",
    "    df=pd.DataFrame(index=index, columns=['beds', 'cases', 'firstDose', 'secondDose'])\n",
    "\n",
    "    for entry in datalist: # Each entry is a dictionary with date, beds, cases, and vaccine doses\n",
    "        parsed_date=parse_date(entry['date'])\n",
    "        for column in ['beds', 'cases', 'firstDose', 'secondDose']:\n",
    "        # Check that nothing is there yet - just in case some dates are duplicated\n",
    "            if pd.isna(df.loc[parsed_date, column]): \n",
    "            # Replace None with 0.0 in data\n",
    "                value=float(entry[column]) if entry[column]!=None else 0.0\n",
    "            # Access single location with .loc and put index,column in a single set of [ ]\n",
    "                df.loc[parsed_date, column]=value\n",
    "            \n",
    "    # Fill in any remaining gaps due to missing dates\n",
    "    df.fillna(0.0, inplace=True)\n",
    "\n",
    "    return df\n",
    "\n",
    "# Wrangle the existing JSON data and produce a dataframe\n",
    "df=wrangle_data(jsondata)"
   ]
  },
  {
   "cell_type": "code",
   "execution_count": 51,
   "metadata": {},
   "outputs": [],
   "source": [
    "# National level statistics\n",
    "filters = [\n",
    "    \"areaType=overview\"\n",
    "]\n",
    "\n",
    "# Mechanical beds operated by COVID patients, new COVID cases, new first vaccine dose and new second vaccine dose statistics by date\n",
    "structure = {\n",
    "    \"date\": \"date\",\n",
    "    \"beds\": \"covidOccupiedMVBeds\",\n",
    "    \"cases\": \"newCasesByPublishDate\",\n",
    "    \"firstDose\": \"newPeopleVaccinatedFirstDoseByPublishDate\",\n",
    "    \"secondDose\": \"newPeopleVaccinatedSecondDoseByPublishDate\"\n",
    "}\n",
    "\n",
    "# Poll the API with the above parameters and store in variable\n",
    "latestdata = Cov19API(filters=filters, structure=structure)"
   ]
  },
  {
   "cell_type": "code",
   "execution_count": 52,
   "metadata": {},
   "outputs": [],
   "source": [
    "def access_api():\n",
    "    # Accesses PHE API and returns data in same format as existing JSON data\n",
    "    return latestdata.get_json()"
   ]
  },
  {
   "cell_type": "code",
   "execution_count": 56,
   "metadata": {},
   "outputs": [],
   "source": [
    "def api_button_callback(button):\n",
    "    # Get fresh data from the API\n",
    "    apidata=access_api()\n",
    "    \n",
    "    # If the API call returns data, update dataframe and hide button to prevent repeated polling of the API\n",
    "    if len(apidata) > 0:\n",
    "        button.icon=\"check-circle\"\n",
    "        button.description=\"Synced\"\n",
    "        button.layout.visibility = \"hidden\"\n",
    "        # button.disabled=True\n",
    "        global df\n",
    "        df=wrangle_data(apidata)\n",
    "        refresh_graph()\n",
    "    # If the API call does not return data, do not update dataframe and provide feedback to user by updating button\n",
    "    else:\n",
    "        button.icon=\"exclamation-circle\"\n",
    "        button.description=\"Error\"\n",
    "        button.style=\"warning\"\n",
    "        button.tooltip=\"Could not sync latest data, falling back to current data\"\n",
    "   \n",
    "apibutton=wdg.Button(\n",
    "    description='Sync data',\n",
    "    disabled=False,\n",
    "    button_style='',\n",
    "    tooltip=\"Sync latest data from PHE\",\n",
    "    icon='cloud-download'\n",
    ")\n",
    "\n",
    "# Button widget calls the above function when clicked\n",
    "apibutton.on_click(api_button_callback)"
   ]
  },
  {
   "cell_type": "markdown",
   "metadata": {},
   "source": [
    "## Interactive graph"
   ]
  },
  {
   "cell_type": "markdown",
   "metadata": {},
   "source": [
    "The graph below shows PHE COVID-19 data from 1 January to 30 November 2021 (when this dashboard was created). If this range is now out of date, please press the button below to refresh the dataset, after which the graph should update itself. If there is any issue requesting new data from PHE, the dashboard will fall back to using the original data.\n",
    "\n",
    "The following metrics are shown in the graph:\n",
    "* Mechanical ventilator beds occupied by COVID-19 patients (*'beds'*)[<sup>1</sup>](#fn1)\n",
    "* New cases by publish date (*'cases'*)\n",
    "* New people who received first vaccination dose by publish date (*'firstDose'*)\n",
    "* New people who received first vaccination dose by publish date (*'secondDose'*)\n",
    "\n",
    "As the numbers in the *'beds'* metric are significantly lower than the other three metrics, the data is displayed in a logarithmic scale. This also allows the representation of **exponential growth** within a small table, which be challenging with other forms of graph.\n",
    "\n",
    "For example, the period of time on the graph immediately after January 2021 shows an exponential rise of first vaccine doses being administered (from zero, effectively). The **y** scale shows around 100,000 first vaccine doses were administered (10<sup>5</sup>), approximately 50,000 new cases were published (10<sup>4</sup>), and approximately 4000 mechnical ventilator beds were occupied by COVID-19 patients (10<sup>3</sup>).\n",
    "\n",
    "\n",
    "##### <span id=\"fn1\">1. It is assumed that the mechanical ventilator beds occupied by COVID patients metric is cumulative rather than new patients each day, as the [Developer's Guide](https://coronavirus.data.gov.uk/details/developers-guide) for the API does not provide detail.</span>"
   ]
  },
  {
   "cell_type": "code",
   "execution_count": 57,
   "metadata": {},
   "outputs": [
    {
     "data": {
      "application/vnd.jupyter.widget-view+json": {
       "model_id": "441b024980a14185957d595c47b350ee",
       "version_major": 2,
       "version_minor": 0
      },
      "text/plain": [
       "HBox(children=(SelectMultiple(description='Options', index=(0, 1, 2), options=('beds', 'cases', 'firstDose', '…"
      ]
     },
     "metadata": {},
     "output_type": "display_data"
    },
    {
     "data": {
      "application/vnd.jupyter.widget-view+json": {
       "model_id": "57ecfdfb55474089a5cdae5ac5253d82",
       "version_major": 2,
       "version_minor": 0
      },
      "text/plain": [
       "Output()"
      ]
     },
     "metadata": {},
     "output_type": "display_data"
    }
   ],
   "source": [
    "bedcols=wdg.SelectMultiple(\n",
    "    options=['beds', 'cases', 'firstDose', 'secondDose'], # Data options available to add to the graph\n",
    "    value=['beds', 'cases', 'firstDose'], # Initial value plotted on the graph\n",
    "    rows=4, # Rows of the selection box\n",
    "    description='Options',\n",
    "    disabled=False\n",
    ")\n",
    "\n",
    "def refresh_graph():\n",
    "    # Force redrawing of the graph after changing value in the selection widget\n",
    "    current=bedcols.value\n",
    "    if current==bedcols.options[0:2]:\n",
    "        other=bedcols.options[0:3]\n",
    "    else:\n",
    "        other=bedcols.options[0:2]\n",
    "    bedcols.value=other\n",
    "    bedcols.value=current\n",
    "\n",
    "def beds_graph(graphcolumns):\n",
    "    # Callback function.\n",
    "    ncols=len(graphcolumns)\n",
    "    if ncols>0:\n",
    "        df.plot(logy=True, y=list(graphcolumns)) # Graphcolumns is a tuple - need a list\n",
    "        plt.title(\"UK COVID-19: Ventilator Beds, Cases and Vaccinations\")\n",
    "        plt.xlabel(\"Month\")\n",
    "        plt.ylabel(\"Number of people\")\n",
    "        plt.show() # Important - graphs won't update properly if this is missing\n",
    "    else:\n",
    "        # If the user has not selected any column, print a message instead\n",
    "        print(\"Click to select data for graph\")\n",
    "        print(\"(CTRL-Click to select more than one category)\")\n",
    "    \n",
    "# Keep calling beds_graph(graphcolumns=value_of_bedcols); capture output in widget output    \n",
    "output=wdg.interactive_output(beds_graph, {'graphcolumns': bedcols})\n",
    "\n",
    "controls=wdg.HBox([bedcols, apibutton])\n",
    "display(controls, output)"
   ]
  }
 ],
 "metadata": {
  "kernelspec": {
   "display_name": "Python 3 (ipykernel)",
   "language": "python",
   "name": "python3"
  },
  "language_info": {
   "codemirror_mode": {
    "name": "ipython",
    "version": 3
   },
   "file_extension": ".py",
   "mimetype": "text/x-python",
   "name": "python",
   "nbconvert_exporter": "python",
   "pygments_lexer": "ipython3",
   "version": "3.9.9"
  }
 },
 "nbformat": 4,
 "nbformat_minor": 4
}
