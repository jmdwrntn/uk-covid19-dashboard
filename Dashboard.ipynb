{
 "cells": [
  {
   "cell_type": "markdown",
   "metadata": {},
   "source": [
    "# UK COVID-19 Dashboard\n",
    "\n",
    "### A comparison of occupied mechanical ventilator beds and new cases with first and second vaccine doses\n",
    "\n",
    "[Source code](https://github.com/jmdwrntn/ukcovid19dashboard) (C) James Thornton, 2021 ([jmdwrntn@mailbox.org](mailto:jmdwrntn@mailbox.org)). All rights reserved.\n",
    " *Based on UK Government [data](https://coronavirus.data.gov.uk/) published by [Public Health England](https://www.gov.uk/government/organisations/public-health-england).*"
   ]
  },
  {
   "cell_type": "markdown",
   "metadata": {},
   "source": [
    "* #### [Interactive graph](#interactive-graph)"
   ]
  },
  {
   "cell_type": "code",
   "execution_count": 2,
   "metadata": {},
   "outputs": [],
   "source": [
    "from IPython.display import clear_output\n",
    "import ipywidgets as wdg\n",
    "import pandas as pd\n",
    "import numpy as np\n",
    "import matplotlib.pyplot as plt\n",
    "import json\n",
    "from uk_covid19 import Cov19API"
   ]
  },
  {
   "cell_type": "code",
   "execution_count": 3,
   "metadata": {},
   "outputs": [],
   "source": [
    "%matplotlib inline # matplotlib 'magic function' to display plot commands inline, directly below cell that produced it\n",
    "# make figures larger\n",
    "plt.rcParams['figure.dpi'] = 100"
   ]
  },
  {
   "cell_type": "code",
   "execution_count": 12,
   "metadata": {},
   "outputs": [],
   "source": [
    "# Load JSON files and store the raw data in some variable. Edit as appropriate\n",
    "with open(\"beds.json\", \"rt\") as INFILE:\n",
    "    jsondata=json.load(INFILE)"
   ]
  },
  {
   "cell_type": "code",
   "execution_count": 13,
   "metadata": {},
   "outputs": [],
   "source": [
    "def parse_date(datestring):\n",
    "    \"\"\" Convert a date string into a pandas datetime object \"\"\"\n",
    "    return pd.to_datetime(datestring, format=\"%Y-%m-%d\")"
   ]
  },
  {
   "cell_type": "code",
   "execution_count": 119,
   "metadata": {},
   "outputs": [],
   "source": [
    "def wrangle_data(rawdata):\n",
    "    \"\"\" Parameters: rawdata - data from json file or API call. Returns a dataframe.\n",
    "    Edit to include the code that wrangles the data, creates the dataframe and fills it in. \"\"\"\n",
    "    \n",
    "    datalist=rawdata['data']\n",
    "    dates=[dictionary['date'] for dictionary in datalist ]\n",
    "    dates.sort()\n",
    "    startdate=parse_date(dates[0])\n",
    "    enddate=parse_date(dates[-1])   \n",
    "\n",
    "    index=pd.date_range(startdate, enddate, freq='D')\n",
    "    df=pd.DataFrame(index=index, columns=['beds', 'cases', 'firstDose', 'secondDose'])\n",
    "\n",
    "    for entry in datalist: # each entry is a dictionary with date, cases, hospital and deaths\n",
    "        parsed_date=parse_date(entry['date'])\n",
    "        for column in ['beds', 'cases', 'firstDose', 'secondDose']:\n",
    "        # check that nothing is there yet - just in case some dates are duplicated,\n",
    "        # maybe with data for different columns in each entry\n",
    "            if pd.isna(df.loc[parsed_date, column]): \n",
    "            # replace None with 0 in our data \n",
    "                value=float(entry[column]) if entry[column]!=None else 0.0\n",
    "            # this is the way you access a specific location in the dataframe - use .loc\n",
    "            # and put index,column in a single set of [ ]\n",
    "                df.loc[parsed_date, column]=value\n",
    "            \n",
    "    # fill in any remaining \"holes\" due to missing dates\n",
    "    df.fillna(0.0, inplace=True)\n",
    "\n",
    "    return df\n",
    "\n",
    "# putting the wrangling code into a function allows you to call it again after refreshing the data through \n",
    "# the API. You should call the function directly on the JSON data when the dashboard starts, by including \n",
    "# the call in the cell as below:\n",
    "# df=wrangle_data(jsondata) # df is the dataframe for plotting\n",
    "# df.plot(logy=True)\n",
    "\n",
    "df=wrangle_data(jsondata)"
   ]
  },
  {
   "cell_type": "code",
   "execution_count": 89,
   "metadata": {},
   "outputs": [],
   "source": [
    "filters = [\n",
    "    \"areaType=overview\"\n",
    "]\n",
    "\n",
    "structure = {\n",
    "    \"date\": \"date\",\n",
    "    \"beds\": \"covidOccupiedMVBeds\",\n",
    "    \"cases\": \"newCasesByPublishDate\",\n",
    "    \"firstDose\": \"newPeopleVaccinatedFirstDoseByPublishDate\",\n",
    "    \"secondDose\": \"newPeopleVaccinatedSecondDoseByPublishDate\"\n",
    "}\n",
    "\n",
    "api = Cov19API(filters=filters, structure=structure)"
   ]
  },
  {
   "cell_type": "code",
   "execution_count": 90,
   "metadata": {},
   "outputs": [],
   "source": [
    "# Place your API access code in this function. Do not call this function directly; it will be called by \n",
    "# the button callback. \n",
    "def access_api():\n",
    "    \"\"\" Accesses the PHE API. Returns raw data in the same format as data loaded from the \"canned\" JSON file. \"\"\"\n",
    "    return api.get_json() # return data read from the API"
   ]
  },
  {
   "cell_type": "code",
   "execution_count": 121,
   "metadata": {},
   "outputs": [],
   "source": [
    "# Printout from this function will be lost in Voila unless captured in an\n",
    "# output widget - therefore, we give feedback to the user by changing the \n",
    "# appearance of the button\n",
    "def api_button_callback(button):\n",
    "    \"\"\" Button callback - it must take the button as its parameter (unused in this case).\n",
    "    Accesses API, wrangles data, updates global variable df used for plotting. \"\"\"\n",
    "    # Get fresh data from the API. If you have time, include some error handling\n",
    "    # around this call.\n",
    "    apidata=access_api()\n",
    "    \n",
    "    if len(apidata) > 0:\n",
    "        button.icon=\"check-circle\"\n",
    "        button.description=\"Synced\"\n",
    "        button.disabled=True\n",
    "        global df\n",
    "        df=wrangle_data(apidata)\n",
    "        refresh_graph()\n",
    "    else:\n",
    "        button.icon=\"exclamation-circle\"\n",
    "        button.description=\"Error\"\n",
    "        button.style=\"warning\"\n",
    "        button.tooltip=\"Could not sync latest data, falling back to current data\"\n",
    "    # wrangle the data and overwrite the dataframe for plotting\n",
    "    \n",
    "    # the graph won't refresh until the user interacts with the widget.\n",
    "    # this function simulates the interaction, see Graph and Analysis below.\n",
    "    # you can omit this step in the first instance\n",
    "    # refresh_graph()\n",
    "    # after all is done, you can switch the icon on the button to a \"check\" sign\n",
    "    # and optionally disable the button - it won't be needed again. You can use icons\n",
    "    # \"unlink\" or \"times\" and change the button text to \"Unavailable\" in case the \n",
    "    # api call fails.\n",
    "    # apibutton.icon=\"check\"\n",
    "    # apibutton.disabled=True\n",
    "\n",
    "    \n",
    "apibutton=wdg.Button(\n",
    "    description='Sync data', # you may want to change this...\n",
    "    disabled=False,\n",
    "    button_style='', # 'success', 'info', 'warning', 'danger' or ''\n",
    "    tooltip=\"Sync latest data from PHE\",\n",
    "    # FontAwesome names without the `fa-` prefix - try \"download\"\n",
    "    icon='cloud-download'\n",
    ")\n",
    "\n",
    "# remember to register your button callback function with the button\n",
    "apibutton.on_click(api_button_callback) # the name of your function inside these brackets\n",
    "\n",
    "\n",
    "# run all cells before clicking on this button"
   ]
  },
  {
   "cell_type": "markdown",
   "metadata": {},
   "source": [
    "## Interactive graph"
   ]
  },
  {
   "cell_type": "markdown",
   "metadata": {},
   "source": [
    "The graph below shows PHE COVID-19 data from 1 January to 30 November 2021 (when this dashboard was created). If this range is now out of date, please press the button below to refresh the dataset, after which the graph should update itself. If there is any issue requesting new data from PHE, the dashboard will fall back to using the original data.\n",
    "\n",
    "The following metrics are shown in the graph:\n",
    "* Mechanical ventilator beds occupied by COVID-19 patients (*'beds'*)[<sup>1</sup>](#fn1)\n",
    "* New cases by publish date (*'cases'*)\n",
    "* New people who received first vaccination dose by publish date (*'firstDose'*)\n",
    "* New people who received first vaccination dose by publish date (*'secondDose'*)\n",
    "\n",
    "As the numbers in the *'beds'* metric are significantly lower than the other three metrics, the data is displayed in a logarithmic scale. This also allows the representation of **exponential growth** within a small table, which be challenging with other forms of graph.\n",
    "\n",
    "For example, the period of time on the graph immediately after January 2021 shows an exponential rise of first vaccine doses being administered (from zero, effectively). The **y** scale shows around 100,000 first vaccine doses were administered (10<sup>5</sup>), approximately 50,000 new cases were published (10<sup>4</sup>), and approximately 4000 mechnical ventilator beds were occupied by COVID-19 patients (10<sup>3</sup>).\n",
    "\n",
    "\n",
    "##### <span id=\"fn1\">1. It is assumed that the mechanical ventilator beds occupied by COVID patients metric is cumulative rather than new patients each day, as the [Developer's Guide](https://coronavirus.data.gov.uk/details/developers-guide) for the API does not provide detail.</span>"
   ]
  },
  {
   "cell_type": "code",
   "execution_count": 120,
   "metadata": {},
   "outputs": [
    {
     "data": {
      "application/vnd.jupyter.widget-view+json": {
       "model_id": "1852dc54e4a147f5acff450ef0429a2a",
       "version_major": 2,
       "version_minor": 0
      },
      "text/plain": [
       "Button(description='Sync data', icon='cloud-download', style=ButtonStyle(), tooltip='Sync latest data from PHE…"
      ]
     },
     "metadata": {},
     "output_type": "display_data"
    }
   ],
   "source": [
    "display(apibutton)"
   ]
  },
  {
   "cell_type": "code",
   "execution_count": 118,
   "metadata": {},
   "outputs": [
    {
     "data": {
      "application/vnd.jupyter.widget-view+json": {
       "model_id": "a5c1bc926f3a43788bad4f307abfa1e1",
       "version_major": 2,
       "version_minor": 0
      },
      "text/plain": [
       "HBox(children=(Output(), SelectMultiple(description='Options', index=(0, 1, 2), options=('beds', 'cases', 'fir…"
      ]
     },
     "metadata": {},
     "output_type": "display_data"
    }
   ],
   "source": [
    "bedcols=wdg.SelectMultiple(\n",
    "    options=['beds', 'cases', 'firstDose', 'secondDose'], # options available\n",
    "    value=['beds', 'cases', 'firstDose'], # initial value\n",
    "    rows=4, # rows of the selection box\n",
    "    description='Options',\n",
    "    disabled=False\n",
    ")\n",
    "\n",
    "def refresh_graph():\n",
    "    current=bedcols.value\n",
    "    if current==bedcols.options[0:2]:\n",
    "        other=bedcols.options[0:3]\n",
    "    else:\n",
    "        other=bedcols.options[0:2]\n",
    "    bedcols.value=other\n",
    "    bedcols.value=current\n",
    "\n",
    "def beds_graph(graphcolumns):\n",
    "    # our callback function.\n",
    "    ncols=len(graphcolumns)\n",
    "    if ncols>0:\n",
    "        df.plot(logy=True, y=list(graphcolumns)) # graphcolumns is a tuple - we need a list\n",
    "        plt.title(\"UK COVID-19: Occupied Beds, Cases and Vaccinations by Dosage\")\n",
    "        plt.xlabel(\"Month\")\n",
    "        plt.ylabel(\"Number of people\")\n",
    "        plt.show() # important - graphs won't update properly if this is missing\n",
    "    else:\n",
    "        # if the user has not selected any column, print a message instead\n",
    "        print(\"Click to select data for graph\")\n",
    "        print(\"(CTRL-Click to select more than one category)\")\n",
    "    \n",
    "# keep calling beds_graph(graphcolumns=value_of_bedcols); capture output in widget output    \n",
    "output=wdg.interactive_output(beds_graph, {'graphcolumns': bedcols})\n",
    "\n",
    "graph=wdg.HBox([output, bedcols])\n",
    "display(graph)\n",
    "\n",
    "#display(bedcols, output)"
   ]
  }
 ],
 "metadata": {
  "kernelspec": {
   "display_name": "Python 3 (ipykernel)",
   "language": "python",
   "name": "python3"
  },
  "language_info": {
   "codemirror_mode": {
    "name": "ipython",
    "version": 3
   },
   "file_extension": ".py",
   "mimetype": "text/x-python",
   "name": "python",
   "nbconvert_exporter": "python",
   "pygments_lexer": "ipython3",
   "version": "3.9.9"
  }
 },
 "nbformat": 4,
 "nbformat_minor": 4
}
